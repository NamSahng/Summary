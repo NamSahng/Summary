{
 "cells": [
  {
   "cell_type": "code",
   "execution_count": 14,
   "metadata": {},
   "outputs": [
    {
     "name": "stdout",
     "output_type": "stream",
     "text": [
      "[2.82842712]\n"
     ]
    }
   ],
   "source": [
    "import numpy as np\n",
    "temp_1 = np.array([[1,1]])\n",
    "temp_2 = np.array([[3,3]])\n",
    "print(np.linalg.norm(temp_1 - temp_2, axis=1))"
   ]
  },
  {
   "cell_type": "code",
   "execution_count": 9,
   "metadata": {},
   "outputs": [
    {
     "data": {
      "text/plain": [
       "'revenue growth from AI use cases in marketing and sales, product and service development, and supply-chain management (Exhibit 1). In marketing and sales, respondents most often report revenue increases from AI use in pricing, prediction of likelihood to buy, and customer-service analytics. In product and service development, revenue-producing use cases include the creation of new AI-based products and new AI-based enhancements. And in supply-chain management, respondents often cite sales and demand forecasting and spend analytics as use cases that generate revenue. Overall, 44 percent of respondents report cost savings from AI adoption in the business units where it’s deployed, with respondents from high performers more than four times likelier than others to say AI adoption has decreased business units’ costs by at least 10 percent, on average. The two functions in which the largest shares of respondents report cost decreases in individual AI use cases are manufacturing and supply-chain management. In manufacturing, responses suggest some of the most significant savings come from optimizing yield, energy, and throughput. In supplychain management, respondents are most likely to'"
      ]
     },
     "execution_count": 9,
     "metadata": {},
     "output_type": "execute_result"
    }
   ],
   "source": [
    "text = \"\"\"revenue growth from AI use cases in marketing and\n",
    "sales, product and service development, and\n",
    "supply-chain management (Exhibit 1). In marketing\n",
    "and sales, respondents most often report\n",
    "revenue increases from AI use in pricing, prediction\n",
    "of likelihood to buy, and customer-service\n",
    "analytics. In product and service development,\n",
    "revenue-producing use cases include the\n",
    "creation of new AI-based products and new AI-based\n",
    "enhancements. And in supply-chain management,\n",
    "respondents often cite sales and demand\n",
    "forecasting and spend analytics as use cases\n",
    "that generate revenue.\n",
    "Overall, 44 percent of respondents report cost\n",
    "savings from AI adoption in the business units where\n",
    "it’s deployed, with respondents from high performers\n",
    "more than four times likelier than others\n",
    "to say AI adoption has decreased business\n",
    "units’ costs by at least 10 percent, on average. The\n",
    "two functions in which the largest shares of\n",
    "respondents report cost decreases in individual AI\n",
    "use cases are manufacturing and supply-chain\n",
    "management. In manufacturing, responses suggest\n",
    "some of the most significant savings come from\n",
    "optimizing yield, energy, and throughput. In supplychain\n",
    "management, respondents are most likely to\"\"\"\n",
    "text = text.replace(\"\\n\", \" \")\n",
    "text"
   ]
  },
  {
   "cell_type": "code",
   "execution_count": 8,
   "metadata": {},
   "outputs": [
    {
     "data": {
      "text/plain": [
       "'revenue growth from AI use cases in marketing and sales, product and service development, and supply-chain management (Exhibit 1). In marketing and sales, respondents most often report revenue increases from AI use in pricing, prediction of likelihood to buy, and customer-service analytics. In product and service development, revenue-producing use cases include the creation of new AI-based products and new AI-based enhancements. And in supply-chain management, respondents often cite sales and demand forecasting and spend analytics as use cases that generate revenue. Overall, 44 percent of respondents report cost savings from AI adoption in the business units where it’s deployed, with respondents from high performers more than four times likelier than others to say AI adoption has decreased business units’ costs by at least 10 percent, on average. The two functions in which the largest shares of respondents report cost decreases in individual AI use cases are manufacturing and supply-chain management. In manufacturing, responses suggest some of the most significant savings come from optimizing yield, energy, and throughput. In supplychain management, respondents are most likely to'"
      ]
     },
     "execution_count": 8,
     "metadata": {},
     "output_type": "execute_result"
    }
   ],
   "source": []
  },
  {
   "cell_type": "code",
   "execution_count": null,
   "metadata": {},
   "outputs": [],
   "source": []
  },
  {
   "cell_type": "code",
   "execution_count": null,
   "metadata": {},
   "outputs": [],
   "source": []
  },
  {
   "cell_type": "code",
   "execution_count": null,
   "metadata": {},
   "outputs": [],
   "source": []
  }
 ],
 "metadata": {
  "kernelspec": {
   "display_name": "Python 3",
   "language": "python",
   "name": "python3"
  },
  "language_info": {
   "codemirror_mode": {
    "name": "ipython",
    "version": 3
   },
   "file_extension": ".py",
   "mimetype": "text/x-python",
   "name": "python",
   "nbconvert_exporter": "python",
   "pygments_lexer": "ipython3",
   "version": "3.6.5"
  }
 },
 "nbformat": 4,
 "nbformat_minor": 2
}
