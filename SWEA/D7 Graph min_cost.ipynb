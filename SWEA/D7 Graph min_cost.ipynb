{
 "cells": [
  {
   "cell_type": "markdown",
   "metadata": {},
   "source": [
    "### MST\n",
    "\n",
    "신장트리 (Spanning Tree): n정점 n-1개의 간선\n",
    "\n",
    "MST: 가중치 그래프에서 신장트리를 구성하는 간선의 가중치 합이 최소인 것\n",
    "\n",
    "프림과 크루스칼이 대표적\n",
    "\n",
    "### Prim \n",
    "\n",
    "동작과정: <br>\n",
    "1.임의의 정점 선택해 시작 <br>\n",
    "2.선택 정점들과 인접하는 정점 중 최소 비용 간선 정점 선택<br>\n",
    "3.모든 정점이 선택될 때 까지 2번 째 과정 반복<br>\n",
    "\n",
    "동작하기 위해서 2 종류의 상호배타집합 정보 필요 <br>\n",
    "a. 트리 정점들: MST를 만들기 위해 선택된 정점들 <br>\n",
    "b. 비트리 정점들: 선택되지 않은 정점들\n",
    "\n",
    "    def MST_Prim(G,s):                       # G: 그래프, s: 시작정점\n",
    "    key = [INF] * N                          # 가중치 무한대로 초기화\n",
    "    pi = [None] * N                          # 트리에서 연결될 부모 정점 초기화\n",
    "    visited = [False] * N                    # 방문여부 초기화\n",
    "    key[s] = 0                               # 시장정점 가중치 0\n",
    "    \n",
    "    for _ in range(N):                       # 정점 개수만큼 반복\n",
    "        minIndex = -1\n",
    "        min = INF\n",
    "        for i in range(N):                   # 방문 안한 정점중 최소가중정점찾기\n",
    "            if not visited[i] and key[i] < min:\n",
    "                min = key[i]\n",
    "                minIndex = i\n",
    "        visited[minIndex] = True              # 최소가중정점 방문처리\n",
    "        for v, val in G[minIndex]:            # 선택 정점의 인접한 정범\n",
    "            if not visited[v] and val < key[v]:\n",
    "                key[v] = val                  # 가중치 갱신\n",
    "                pi[v] = minIndex              # 트리에서 연결될 부모정점\n",
    "                \n",
    "### Kruskal\n",
    "\n",
    "최소 가중치 간선을 하나씩 선택해 MST를 찾자\n",
    "<br>\n",
    "동작과정:<br>\n",
    "1. 최초, 모든 간선을 가중치에 오름차순 정렬\n",
    "2. 가장 낮은 간선 선택해 트리 증가. 사이클 전재하면 다음 가중치 낮은 간선 선택\n",
    "3. n-1개 간선 선택 될때까지 반복\n",
    "\n",
    "    def MST_K(G):\n",
    "        mst = []                        \n",
    "\n",
    "        for i in range(N):\n",
    "            Make_Set(i)\n",
    "\n",
    "        G.sort(key = lambda: t[2])          # 가중치 기준 정렬\n",
    "\n",
    "        mst_cost = 0                        # MST 가중치\n",
    "\n",
    "        while len(mst) < N-1:            \n",
    "            u, v, val = G.pop(0)            # 최소 간선 가져오기\n",
    "            if Find_Set(u) != Find_Set(V):\n",
    "                Union(u,v)\n",
    "                mst.append(u,v)             # 트리에 (u, v) 추가\n",
    "                mst_cost += val\n",
    "\n",
    "### 최단 경로\n",
    "\n",
    "1. 단일 시작점 : Dijkstra와 Bellman-Ford(음가중치 허용)가 대표적\n",
    "\n",
    "2. 모든 쌍 : 플로이드 워샬\n",
    "\n",
    "#### Dijkstra\n",
    "    \n",
    "    # D: 출발점에서 각 정점까지 최단 경로 가중치 합을 저장\n",
    "    # P: 최단 경로 트리 저장\n",
    "    # import math math.inf\n",
    "\n",
    "    def Dijkstra(G,r):\n",
    "        D = [INF] * N\n",
    "        P = [None] * N\n",
    "        visited = [False] * N\n",
    "        D[r] = 0\n",
    "\n",
    "        for _ in range(N):\n",
    "            minIndex = -1\n",
    "            min_v = INF\n",
    "            for i in range(N):\n",
    "                if not visited[i] and D[i] < min:\n",
    "                    min_v = D[i]\n",
    "                    minIndex = i\n",
    "\n",
    "            visited[minIndex] = True\n",
    "            for v, val in G[minIndex]:\n",
    "                if not visited[v] and D[minIndex] + val < D[v]:\n",
    "                    D[v] = D[minIndex] + val\n",
    "                    P[v] = minIndex\n",
    "\n",
    "벨만포드: 음의 사이클은 허용 X, 시간마니걸림\n",
    "\n",
    "출발점에서 각 정점까지 간선하나로 구성된 경로만 고려해 최단경로<br>\n",
    "최대 간선 2개까지 고려해 최단 경로를 구해나가 최단 간선 n-1개 까지 고려한 경로들에서 최단경로를 구함(DP 적용)\n",
    "\n",
    "\n",
    "\n"
   ]
  },
  {
   "cell_type": "code",
   "execution_count": 11,
   "metadata": {
    "collapsed": false
   },
   "outputs": [
    {
     "name": "stdout",
     "output_type": "stream",
     "text": [
      "[inf, inf, inf]\n"
     ]
    }
   ],
   "source": [
    "import math\n",
    "A = [math.inf] *3\n",
    "print(A)"
   ]
  },
  {
   "cell_type": "code",
   "execution_count": null,
   "metadata": {
    "collapsed": true
   },
   "outputs": [],
   "source": []
  }
 ],
 "metadata": {
  "kernelspec": {
   "display_name": "Python 3",
   "language": "python",
   "name": "python3"
  },
  "language_info": {
   "codemirror_mode": {
    "name": "ipython",
    "version": 3
   },
   "file_extension": ".py",
   "mimetype": "text/x-python",
   "name": "python",
   "nbconvert_exporter": "python",
   "pygments_lexer": "ipython3",
   "version": "3.6.0"
  }
 },
 "nbformat": 4,
 "nbformat_minor": 2
}
