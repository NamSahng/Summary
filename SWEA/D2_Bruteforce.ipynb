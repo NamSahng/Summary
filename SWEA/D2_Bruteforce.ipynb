{
 "cells": [
  {
   "cell_type": "markdown",
   "metadata": {},
   "source": [
    "### 순열\n",
    "\n",
    "서로다른 것 중 몇 개 뽑아 한 줄로 나열한 것.<br>\n",
    "nPr = n* n-1 ... n-r+1\n",
    "\n",
    "<hr/>"
   ]
  },
  {
   "cell_type": "code",
   "execution_count": 1,
   "metadata": {
    "collapsed": false
   },
   "outputs": [
    {
     "name": "stdout",
     "output_type": "stream",
     "text": [
      "[(1, 2, 3), (1, 3, 2), (2, 1, 3), (2, 3, 1), (3, 1, 2), (3, 2, 1)]\n"
     ]
    }
   ],
   "source": [
    "import itertools\n",
    "mylist = [1,2,3]\n",
    "result = itertools.permutations(mylist)\n",
    "print(list(result))"
   ]
  },
  {
   "cell_type": "code",
   "execution_count": 7,
   "metadata": {
    "collapsed": false
   },
   "outputs": [
    {
     "name": "stdout",
     "output_type": "stream",
     "text": [
      "[(1, 1, 1), (1, 1, 2), (1, 1, 3), (1, 2, 1), (1, 2, 2), (1, 2, 3), (1, 3, 1), (1, 3, 2), (1, 3, 3), (2, 1, 1), (2, 1, 2), (2, 1, 3), (2, 2, 1), (2, 2, 2), (2, 2, 3), (2, 3, 1), (2, 3, 2), (2, 3, 3), (3, 1, 1), (3, 1, 2), (3, 1, 3), (3, 2, 1), (3, 2, 2), (3, 2, 3), (3, 3, 1), (3, 3, 2), (3, 3, 3)]\n"
     ]
    }
   ],
   "source": [
    "# 중복순열\n",
    "result = itertools.product(mylist, repeat=3)\n",
    "print(list(result))"
   ]
  },
  {
   "cell_type": "markdown",
   "metadata": {},
   "source": [
    "<hr/>\n",
    "\n",
    "### 부분집합\n",
    "\n",
    "집합에 포함된 원소 선택\n",
    "\n",
    "다수의 중요 알고리즘드르이 원소들의 그룹에서 최적의 부분집합을 찾는 것이다.\n",
    "\n",
    "ex) 배낭짐싸기: 배낭과 물건들의 집합에서 배낭은 무게가 있고 아이템은 각각의 무게와 가치가 있다. <br>\n",
    "배낭에 담는 무게의 총합 < 배낭의 무게<br>\n",
    "물건의 총합이 배낭의 무게를 넘지 않으면서 가치의 합이 최대가 되는 물건 선택\n",
    "\n",
    "N개의 원소에 2^N 개 있다.\n",
    "\n",
    "이때 비트 포현하는데 부분집합을 생성하기 위한 가장 자연스럽고 간단 방법\n",
    "\n",
    "<hr/>"
   ]
  },
  {
   "cell_type": "code",
   "execution_count": 11,
   "metadata": {
    "collapsed": false
   },
   "outputs": [
    {
     "name": "stdout",
     "output_type": "stream",
     "text": [
      "[]\n",
      "[2]\n",
      "[3]\n",
      "[2, 3]\n",
      "[4]\n",
      "[2, 4]\n",
      "[3, 4]\n",
      "[2, 3, 4]\n",
      "[5]\n",
      "[2, 5]\n",
      "[3, 5]\n",
      "[2, 3, 5]\n",
      "[4, 5]\n",
      "[2, 4, 5]\n",
      "[3, 4, 5]\n",
      "[2, 3, 4, 5]\n"
     ]
    }
   ],
   "source": [
    "# 부분집합\n",
    "arr = [2,3,4,5]\n",
    "for i in range(1<<len(arr)): # 부분집합의 개수: 16개\n",
    "    print([arr[j] for j in range(len(arr)) if i & (1<<j)])"
   ]
  },
  {
   "cell_type": "markdown",
   "metadata": {},
   "source": [
    "<hr/>\n",
    "\n",
    "### 조합\n",
    "\n",
    "n개 원소에서 r개를 순서없이 뽑는 것\n",
    "\n",
    "$ { nCr = {{n!}\\over{(n-r)! r!}} }$\n",
    "\n",
    "재귀적 표현: $ nCr = _{n-1}C_{r-1} + _{n-1} C _{r} $\n",
    "\n",
    "<hr/>"
   ]
  },
  {
   "cell_type": "code",
   "execution_count": 24,
   "metadata": {
    "collapsed": false
   },
   "outputs": [],
   "source": [
    "an =[i for i in range(5)]\n",
    "tr =[j for j in range(3)]\n",
    "def comb(n,r):\n",
    "    if r ==0: print(tr)\n",
    "    elif n<r: return\n",
    "    else:\n",
    "        tr[r-1] =an[n-1]\n",
    "        comb(n-1,r-1)\n",
    "        comb(n-1,r)"
   ]
  },
  {
   "cell_type": "code",
   "execution_count": 25,
   "metadata": {
    "collapsed": false
   },
   "outputs": [
    {
     "name": "stdout",
     "output_type": "stream",
     "text": [
      "[2, 3, 4]\n",
      "[1, 3, 4]\n",
      "[0, 3, 4]\n",
      "[1, 2, 4]\n",
      "[0, 2, 4]\n",
      "[0, 1, 4]\n",
      "[1, 2, 3]\n",
      "[0, 2, 3]\n",
      "[0, 1, 3]\n",
      "[0, 1, 2]\n"
     ]
    }
   ],
   "source": [
    "comb(5,3)"
   ]
  },
  {
   "cell_type": "code",
   "execution_count": 21,
   "metadata": {
    "collapsed": false
   },
   "outputs": [
    {
     "name": "stdout",
     "output_type": "stream",
     "text": [
      "[(1, 2, 3), (1, 2, 4), (1, 2, 5), (1, 3, 4), (1, 3, 5), (1, 4, 5), (2, 3, 4), (2, 3, 5), (2, 4, 5), (3, 4, 5)]\n"
     ]
    }
   ],
   "source": [
    "import itertools\n",
    "mylist = [1,2,3,4,5]\n",
    "result = itertools.combinations(mylist,r=3)\n",
    "print(list(result))"
   ]
  },
  {
   "cell_type": "code",
   "execution_count": 27,
   "metadata": {
    "collapsed": false
   },
   "outputs": [
    {
     "name": "stdout",
     "output_type": "stream",
     "text": [
      "[(1, 1, 1), (1, 1, 2), (1, 1, 3), (1, 1, 4), (1, 1, 5), (1, 2, 2), (1, 2, 3), (1, 2, 4), (1, 2, 5), (1, 3, 3), (1, 3, 4), (1, 3, 5), (1, 4, 4), (1, 4, 5), (1, 5, 5), (2, 2, 2), (2, 2, 3), (2, 2, 4), (2, 2, 5), (2, 3, 3), (2, 3, 4), (2, 3, 5), (2, 4, 4), (2, 4, 5), (2, 5, 5), (3, 3, 3), (3, 3, 4), (3, 3, 5), (3, 4, 4), (3, 4, 5), (3, 5, 5), (4, 4, 4), (4, 4, 5), (4, 5, 5), (5, 5, 5)]\n"
     ]
    }
   ],
   "source": [
    "import itertools\n",
    "mylist = [1,2,3,4,5]\n",
    "result = itertools.combinations_with_replacement(mylist,r=3)\n",
    "print(list(result))"
   ]
  }
